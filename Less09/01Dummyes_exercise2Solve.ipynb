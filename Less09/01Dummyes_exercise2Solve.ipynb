{
 "cells": [
  {
   "cell_type": "code",
   "execution_count": null,
   "id": "e56f4c4d",
   "metadata": {},
   "outputs": [],
   "source": [
    "import pandas as pd\n",
    "import numpy as np"
   ]
  },
  {
   "cell_type": "markdown",
   "id": "4d77c19b",
   "metadata": {},
   "source": [
    "## Esercizio 1: Creazione di variabili dummy da una singola colonna categorica\n"
   ]
  },
  {
   "cell_type": "code",
   "execution_count": 3,
   "id": "4e88387b",
   "metadata": {},
   "outputs": [],
   "source": [
    "df = pd.DataFrame({\n",
    "                'frutta': ['mela', 'banana', 'arancia', 'mela', 'banana']\n",
    "                })\n",
    "\n",
    "# Il tuo compito: Usa pd.get_dummies() per convertire la colonna 'frutta' in variabili dummy\n",
    "# Salva il risultato in una variabile chiamata 'dummies'"
   ]
  },
  {
   "cell_type": "code",
   "execution_count": null,
   "id": "8fcf8da4",
   "metadata": {},
   "outputs": [
    {
     "data": {
      "text/html": [
       "<div>\n",
       "<style scoped>\n",
       "    .dataframe tbody tr th:only-of-type {\n",
       "        vertical-align: middle;\n",
       "    }\n",
       "\n",
       "    .dataframe tbody tr th {\n",
       "        vertical-align: top;\n",
       "    }\n",
       "\n",
       "    .dataframe thead th {\n",
       "        text-align: right;\n",
       "    }\n",
       "</style>\n",
       "<table border=\"1\" class=\"dataframe\">\n",
       "  <thead>\n",
       "    <tr style=\"text-align: right;\">\n",
       "      <th></th>\n",
       "      <th>arancia</th>\n",
       "      <th>banana</th>\n",
       "      <th>mela</th>\n",
       "    </tr>\n",
       "  </thead>\n",
       "  <tbody>\n",
       "    <tr>\n",
       "      <th>0</th>\n",
       "      <td>False</td>\n",
       "      <td>False</td>\n",
       "      <td>True</td>\n",
       "    </tr>\n",
       "    <tr>\n",
       "      <th>1</th>\n",
       "      <td>False</td>\n",
       "      <td>True</td>\n",
       "      <td>False</td>\n",
       "    </tr>\n",
       "    <tr>\n",
       "      <th>2</th>\n",
       "      <td>True</td>\n",
       "      <td>False</td>\n",
       "      <td>False</td>\n",
       "    </tr>\n",
       "    <tr>\n",
       "      <th>3</th>\n",
       "      <td>False</td>\n",
       "      <td>False</td>\n",
       "      <td>True</td>\n",
       "    </tr>\n",
       "    <tr>\n",
       "      <th>4</th>\n",
       "      <td>False</td>\n",
       "      <td>True</td>\n",
       "      <td>False</td>\n",
       "    </tr>\n",
       "  </tbody>\n",
       "</table>\n",
       "</div>"
      ],
      "text/plain": [
       "   arancia  banana   mela\n",
       "0    False   False   True\n",
       "1    False    True  False\n",
       "2     True   False  False\n",
       "3    False   False   True\n",
       "4    False    True  False"
      ]
     },
     "execution_count": 5,
     "metadata": {},
     "output_type": "execute_result"
    }
   ],
   "source": []
  },
  {
   "cell_type": "markdown",
   "id": "143ec749",
   "metadata": {},
   "source": [
    "## Esercizio 2: Concatenare il DataFrame originale con le variabili dummy\n"
   ]
  },
  {
   "cell_type": "code",
   "execution_count": 6,
   "id": "1c13c972",
   "metadata": {},
   "outputs": [],
   "source": [
    "df = pd.DataFrame({\n",
    "                    'id': [1, 2, 3, 4, 5],\n",
    "                    'colore': ['rosso', 'blu', 'verde', 'blu', 'rosso'],\n",
    "                    'valore': [10, 20, 30, 40, 50]\n",
    "                    })\n",
    "\n",
    "# 1. Crea variabili dummy per la colonna 'colore'\n",
    "# 2. Concatena queste dummy al DataFrame originale mantenendo l'id e valore\n",
    "# 3. Rimuovi la colonna 'colore' originale"
   ]
  },
  {
   "cell_type": "code",
   "execution_count": null,
   "id": "49cc1840",
   "metadata": {},
   "outputs": [
    {
     "data": {
      "text/html": [
       "<div>\n",
       "<style scoped>\n",
       "    .dataframe tbody tr th:only-of-type {\n",
       "        vertical-align: middle;\n",
       "    }\n",
       "\n",
       "    .dataframe tbody tr th {\n",
       "        vertical-align: top;\n",
       "    }\n",
       "\n",
       "    .dataframe thead th {\n",
       "        text-align: right;\n",
       "    }\n",
       "</style>\n",
       "<table border=\"1\" class=\"dataframe\">\n",
       "  <thead>\n",
       "    <tr style=\"text-align: right;\">\n",
       "      <th></th>\n",
       "      <th>id</th>\n",
       "      <th>valore</th>\n",
       "      <th>colore_blu</th>\n",
       "      <th>colore_rosso</th>\n",
       "      <th>colore_verde</th>\n",
       "    </tr>\n",
       "  </thead>\n",
       "  <tbody>\n",
       "    <tr>\n",
       "      <th>0</th>\n",
       "      <td>1</td>\n",
       "      <td>10</td>\n",
       "      <td>False</td>\n",
       "      <td>True</td>\n",
       "      <td>False</td>\n",
       "    </tr>\n",
       "    <tr>\n",
       "      <th>1</th>\n",
       "      <td>2</td>\n",
       "      <td>20</td>\n",
       "      <td>True</td>\n",
       "      <td>False</td>\n",
       "      <td>False</td>\n",
       "    </tr>\n",
       "    <tr>\n",
       "      <th>2</th>\n",
       "      <td>3</td>\n",
       "      <td>30</td>\n",
       "      <td>False</td>\n",
       "      <td>False</td>\n",
       "      <td>True</td>\n",
       "    </tr>\n",
       "    <tr>\n",
       "      <th>3</th>\n",
       "      <td>4</td>\n",
       "      <td>40</td>\n",
       "      <td>True</td>\n",
       "      <td>False</td>\n",
       "      <td>False</td>\n",
       "    </tr>\n",
       "    <tr>\n",
       "      <th>4</th>\n",
       "      <td>5</td>\n",
       "      <td>50</td>\n",
       "      <td>False</td>\n",
       "      <td>True</td>\n",
       "      <td>False</td>\n",
       "    </tr>\n",
       "  </tbody>\n",
       "</table>\n",
       "</div>"
      ],
      "text/plain": [
       "   id  valore  colore_blu  colore_rosso  colore_verde\n",
       "0   1      10       False          True         False\n",
       "1   2      20        True         False         False\n",
       "2   3      30       False         False          True\n",
       "3   4      40        True         False         False\n",
       "4   5      50       False          True         False"
      ]
     },
     "execution_count": 7,
     "metadata": {},
     "output_type": "execute_result"
    }
   ],
   "source": []
  },
  {
   "cell_type": "markdown",
   "id": "12d2fc78",
   "metadata": {},
   "source": [
    "## Esercizio 3: Gestire variabili dummy con il parametro drop_first\n"
   ]
  },
  {
   "cell_type": "code",
   "execution_count": 9,
   "id": "a39c49eb",
   "metadata": {},
   "outputs": [],
   "source": [
    "import pandas as pd\n",
    "\n",
    "df = pd.DataFrame({\n",
    "                    'stato_civile': ['single', 'sposato', 'divorziato', 'single', 'sposato', 'divorziato']\n",
    "                })"
   ]
  },
  {
   "cell_type": "code",
   "execution_count": null,
   "id": "34638f7d",
   "metadata": {},
   "outputs": [
    {
     "name": "stdout",
     "output_type": "stream",
     "text": [
      "Tutte le dummy:\n",
      "   stato_divorziato  stato_single  stato_sposato\n",
      "0             False          True          False\n",
      "1             False         False           True\n",
      "2              True         False          False\n",
      "3             False          True          False\n",
      "4             False         False           True\n",
      "5              True         False          False\n",
      "\n",
      "Con drop_first=True:\n",
      "   stato_single  stato_sposato\n",
      "0          True          False\n",
      "1         False           True\n",
      "2         False          False\n",
      "3          True          False\n",
      "4         False           True\n",
      "5         False          False\n"
     ]
    }
   ],
   "source": []
  },
  {
   "cell_type": "markdown",
   "id": "4e44a659",
   "metadata": {},
   "source": [
    "## Esercizio 4: Gestire valori mancanti nelle variabili categoriche\n"
   ]
  },
  {
   "cell_type": "code",
   "execution_count": 16,
   "id": "a6a75ad4",
   "metadata": {},
   "outputs": [],
   "source": [
    "import pandas as pd\n",
    "import numpy as np\n",
    "\n",
    "df = pd.DataFrame({\n",
    "                    'dispositivo': ['smartphone', 'tablet', None, 'smartphone', 'laptop', None]\n",
    "                })\n",
    "\n",
    "# 1. Crea variabili dummy con la gestione predefinita dei valori mancanti\n",
    "# 2. Crea variabili dummy impostando dummy_na=True\n",
    "# 3. Confronta i risultati e spiega la differenza"
   ]
  },
  {
   "cell_type": "code",
   "execution_count": null,
   "id": "b6462f8b",
   "metadata": {},
   "outputs": [
    {
     "name": "stdout",
     "output_type": "stream",
     "text": [
      "Gestione predefinita (dummy_na=False):\n",
      "   laptop  smartphone  tablet\n",
      "0   False        True   False\n",
      "1   False       False    True\n",
      "2   False       False   False\n",
      "3   False        True   False\n",
      "4    True       False   False\n",
      "5   False       False   False\n",
      "\n",
      "Con dummy_na=True:\n",
      "   laptop  smartphone  tablet    NaN\n",
      "0   False        True   False  False\n",
      "1   False       False    True  False\n",
      "2   False       False   False   True\n",
      "3   False        True   False  False\n",
      "4    True       False   False  False\n",
      "5   False       False   False   True\n"
     ]
    }
   ],
   "source": []
  },
  {
   "cell_type": "markdown",
   "id": "5270f076",
   "metadata": {},
   "source": [
    "## Esercizio 5: Usare variabili dummy con più colonne categoriche\n"
   ]
  },
  {
   "cell_type": "code",
   "execution_count": 19,
   "id": "65df5677",
   "metadata": {},
   "outputs": [],
   "source": [
    "import pandas as pd\n",
    "\n",
    "df = pd.DataFrame({\n",
    "                'genere': ['M', 'F', 'M', 'F', 'M'],\n",
    "                'istruzione': ['laurea', 'diploma', 'laurea', 'dottorato', 'diploma'],\n",
    "                'punteggio': [85, 92, 78, 96, 88]\n",
    "                })\n",
    "\n",
    "# 1. Crea variabili dummy per entrambe le colonne categoriche in un unico passaggio\n",
    "# 2. Mantieni la colonna 'punteggio' nel DataFrame risultante\n"
   ]
  },
  {
   "cell_type": "code",
   "execution_count": null,
   "id": "3a720a44",
   "metadata": {},
   "outputs": [
    {
     "data": {
      "text/html": [
       "<div>\n",
       "<style scoped>\n",
       "    .dataframe tbody tr th:only-of-type {\n",
       "        vertical-align: middle;\n",
       "    }\n",
       "\n",
       "    .dataframe tbody tr th {\n",
       "        vertical-align: top;\n",
       "    }\n",
       "\n",
       "    .dataframe thead th {\n",
       "        text-align: right;\n",
       "    }\n",
       "</style>\n",
       "<table border=\"1\" class=\"dataframe\">\n",
       "  <thead>\n",
       "    <tr style=\"text-align: right;\">\n",
       "      <th></th>\n",
       "      <th>punteggio</th>\n",
       "      <th>genere_F</th>\n",
       "      <th>genere_M</th>\n",
       "      <th>istruzione_diploma</th>\n",
       "      <th>istruzione_dottorato</th>\n",
       "      <th>istruzione_laurea</th>\n",
       "    </tr>\n",
       "  </thead>\n",
       "  <tbody>\n",
       "    <tr>\n",
       "      <th>0</th>\n",
       "      <td>85</td>\n",
       "      <td>False</td>\n",
       "      <td>True</td>\n",
       "      <td>False</td>\n",
       "      <td>False</td>\n",
       "      <td>True</td>\n",
       "    </tr>\n",
       "    <tr>\n",
       "      <th>1</th>\n",
       "      <td>92</td>\n",
       "      <td>True</td>\n",
       "      <td>False</td>\n",
       "      <td>True</td>\n",
       "      <td>False</td>\n",
       "      <td>False</td>\n",
       "    </tr>\n",
       "    <tr>\n",
       "      <th>2</th>\n",
       "      <td>78</td>\n",
       "      <td>False</td>\n",
       "      <td>True</td>\n",
       "      <td>False</td>\n",
       "      <td>False</td>\n",
       "      <td>True</td>\n",
       "    </tr>\n",
       "    <tr>\n",
       "      <th>3</th>\n",
       "      <td>96</td>\n",
       "      <td>True</td>\n",
       "      <td>False</td>\n",
       "      <td>False</td>\n",
       "      <td>True</td>\n",
       "      <td>False</td>\n",
       "    </tr>\n",
       "    <tr>\n",
       "      <th>4</th>\n",
       "      <td>88</td>\n",
       "      <td>False</td>\n",
       "      <td>True</td>\n",
       "      <td>True</td>\n",
       "      <td>False</td>\n",
       "      <td>False</td>\n",
       "    </tr>\n",
       "  </tbody>\n",
       "</table>\n",
       "</div>"
      ],
      "text/plain": [
       "   punteggio  genere_F  genere_M  istruzione_diploma  istruzione_dottorato  \\\n",
       "0         85     False      True               False                 False   \n",
       "1         92      True     False                True                 False   \n",
       "2         78     False      True               False                 False   \n",
       "3         96      True     False               False                  True   \n",
       "4         88     False      True                True                 False   \n",
       "\n",
       "   istruzione_laurea  \n",
       "0               True  \n",
       "1              False  \n",
       "2               True  \n",
       "3              False  \n",
       "4              False  "
      ]
     },
     "execution_count": 20,
     "metadata": {},
     "output_type": "execute_result"
    }
   ],
   "source": []
  },
  {
   "cell_type": "code",
   "execution_count": null,
   "id": "4f71a12d",
   "metadata": {},
   "outputs": [
    {
     "data": {
      "text/html": [
       "<div>\n",
       "<style scoped>\n",
       "    .dataframe tbody tr th:only-of-type {\n",
       "        vertical-align: middle;\n",
       "    }\n",
       "\n",
       "    .dataframe tbody tr th {\n",
       "        vertical-align: top;\n",
       "    }\n",
       "\n",
       "    .dataframe thead th {\n",
       "        text-align: right;\n",
       "    }\n",
       "</style>\n",
       "<table border=\"1\" class=\"dataframe\">\n",
       "  <thead>\n",
       "    <tr style=\"text-align: right;\">\n",
       "      <th></th>\n",
       "      <th>punteggio</th>\n",
       "      <th>genere_M</th>\n",
       "      <th>istruzione_dottorato</th>\n",
       "      <th>istruzione_laurea</th>\n",
       "    </tr>\n",
       "  </thead>\n",
       "  <tbody>\n",
       "    <tr>\n",
       "      <th>0</th>\n",
       "      <td>85</td>\n",
       "      <td>True</td>\n",
       "      <td>False</td>\n",
       "      <td>True</td>\n",
       "    </tr>\n",
       "    <tr>\n",
       "      <th>1</th>\n",
       "      <td>92</td>\n",
       "      <td>False</td>\n",
       "      <td>False</td>\n",
       "      <td>False</td>\n",
       "    </tr>\n",
       "    <tr>\n",
       "      <th>2</th>\n",
       "      <td>78</td>\n",
       "      <td>True</td>\n",
       "      <td>False</td>\n",
       "      <td>True</td>\n",
       "    </tr>\n",
       "    <tr>\n",
       "      <th>3</th>\n",
       "      <td>96</td>\n",
       "      <td>False</td>\n",
       "      <td>True</td>\n",
       "      <td>False</td>\n",
       "    </tr>\n",
       "    <tr>\n",
       "      <th>4</th>\n",
       "      <td>88</td>\n",
       "      <td>True</td>\n",
       "      <td>False</td>\n",
       "      <td>False</td>\n",
       "    </tr>\n",
       "  </tbody>\n",
       "</table>\n",
       "</div>"
      ],
      "text/plain": [
       "   punteggio  genere_M  istruzione_dottorato  istruzione_laurea\n",
       "0         85      True                 False               True\n",
       "1         92     False                 False              False\n",
       "2         78      True                 False               True\n",
       "3         96     False                  True              False\n",
       "4         88      True                 False              False"
      ]
     },
     "execution_count": 21,
     "metadata": {},
     "output_type": "execute_result"
    }
   ],
   "source": []
  },
  {
   "cell_type": "code",
   "execution_count": null,
   "id": "22330345",
   "metadata": {},
   "outputs": [],
   "source": []
  }
 ],
 "metadata": {
  "kernelspec": {
   "display_name": "Python 3",
   "language": "python",
   "name": "python3"
  },
  "language_info": {
   "codemirror_mode": {
    "name": "ipython",
    "version": 3
   },
   "file_extension": ".py",
   "mimetype": "text/x-python",
   "name": "python",
   "nbconvert_exporter": "python",
   "pygments_lexer": "ipython3",
   "version": "3.11.9"
  }
 },
 "nbformat": 4,
 "nbformat_minor": 5
}
