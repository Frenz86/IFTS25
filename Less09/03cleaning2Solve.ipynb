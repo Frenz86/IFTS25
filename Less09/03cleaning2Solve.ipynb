{
 "cells": [
  {
   "cell_type": "code",
   "execution_count": 2,
   "metadata": {},
   "outputs": [],
   "source": [
    "import pandas as pd\n",
    "import numpy as np"
   ]
  },
  {
   "cell_type": "code",
   "execution_count": null,
   "metadata": {},
   "outputs": [],
   "source": [
    "path = \"https://frenzy86.s3.eu-west-2.amazonaws.com/python/data/wine.csv\"\n",
    "df = pd.read_csv(path)"
   ]
  },
  {
   "cell_type": "code",
   "execution_count": 4,
   "metadata": {},
   "outputs": [],
   "source": [
    "df_clean = df.copy()"
   ]
  },
  {
   "cell_type": "code",
   "execution_count": null,
   "metadata": {},
   "outputs": [],
   "source": [
    "# Rimuovi Ask For Price e reset index\n"
   ]
  },
  {
   "cell_type": "code",
   "execution_count": null,
   "metadata": {},
   "outputs": [],
   "source": [
    "# rimuovi virgola in prices\n"
   ]
  },
  {
   "cell_type": "code",
   "execution_count": null,
   "metadata": {},
   "outputs": [],
   "source": [
    "# prezzi hanno scale non reali\n"
   ]
  },
  {
   "cell_type": "code",
   "execution_count": null,
   "metadata": {},
   "outputs": [],
   "source": [
    "# sistema bottles_stored"
   ]
  },
  {
   "cell_type": "code",
   "execution_count": null,
   "metadata": {},
   "outputs": [],
   "source": [
    "# year come intero\n"
   ]
  },
  {
   "cell_type": "code",
   "execution_count": null,
   "metadata": {},
   "outputs": [],
   "source": [
    "# gli anni più frequenti\n"
   ]
  },
  {
   "cell_type": "code",
   "execution_count": null,
   "metadata": {},
   "outputs": [],
   "source": [
    "# Estrazione del tipo vino dal nome nella colonna wine_type\n"
   ]
  },
  {
   "cell_type": "code",
   "execution_count": null,
   "metadata": {},
   "outputs": [],
   "source": [
    "# Calculate age colonna age_years\n"
   ]
  },
  {
   "cell_type": "code",
   "execution_count": null,
   "metadata": {},
   "outputs": [],
   "source": [
    "# Fill cellar_type con la moda\n"
   ]
  },
  {
   "cell_type": "code",
   "execution_count": null,
   "metadata": {},
   "outputs": [],
   "source": [
    "#drop columns and nan\n"
   ]
  },
  {
   "cell_type": "code",
   "execution_count": null,
   "metadata": {},
   "outputs": [
    {
     "data": {
      "text/html": [
       "<div>\n",
       "<style scoped>\n",
       "    .dataframe tbody tr th:only-of-type {\n",
       "        vertical-align: middle;\n",
       "    }\n",
       "\n",
       "    .dataframe tbody tr th {\n",
       "        vertical-align: top;\n",
       "    }\n",
       "\n",
       "    .dataframe thead th {\n",
       "        text-align: right;\n",
       "    }\n",
       "</style>\n",
       "<table border=\"1\" class=\"dataframe\">\n",
       "  <thead>\n",
       "    <tr style=\"text-align: right;\">\n",
       "      <th></th>\n",
       "      <th>name</th>\n",
       "      <th>year</th>\n",
       "      <th>Price</th>\n",
       "      <th>bottles_stored</th>\n",
       "      <th>cellar_type</th>\n",
       "      <th>wine_type</th>\n",
       "      <th>age_years</th>\n",
       "    </tr>\n",
       "  </thead>\n",
       "  <tbody>\n",
       "    <tr>\n",
       "      <th>0</th>\n",
       "      <td>Chardonnay Estate</td>\n",
       "      <td>2019</td>\n",
       "      <td>50.18</td>\n",
       "      <td>106.0</td>\n",
       "      <td>Premium</td>\n",
       "      <td>Chardonnay</td>\n",
       "      <td>5</td>\n",
       "    </tr>\n",
       "    <tr>\n",
       "      <th>1</th>\n",
       "      <td>Sauvignon Vintage</td>\n",
       "      <td>2022</td>\n",
       "      <td>29.70</td>\n",
       "      <td>1513.0</td>\n",
       "      <td>Standard</td>\n",
       "      <td>Sauvignon</td>\n",
       "      <td>2</td>\n",
       "    </tr>\n",
       "    <tr>\n",
       "      <th>2</th>\n",
       "      <td>Chardonnay Select</td>\n",
       "      <td>2018</td>\n",
       "      <td>93.89</td>\n",
       "      <td>614.0</td>\n",
       "      <td>Basic</td>\n",
       "      <td>Chardonnay</td>\n",
       "      <td>6</td>\n",
       "    </tr>\n",
       "    <tr>\n",
       "      <th>4</th>\n",
       "      <td>Barbaresco Vintage</td>\n",
       "      <td>2016</td>\n",
       "      <td>22.02</td>\n",
       "      <td>1213.0</td>\n",
       "      <td>Standard</td>\n",
       "      <td>Barbaresco</td>\n",
       "      <td>8</td>\n",
       "    </tr>\n",
       "    <tr>\n",
       "      <th>5</th>\n",
       "      <td>Rioja Classic</td>\n",
       "      <td>2023</td>\n",
       "      <td>65.67</td>\n",
       "      <td>1270.0</td>\n",
       "      <td>Premium</td>\n",
       "      <td>Rioja</td>\n",
       "      <td>1</td>\n",
       "    </tr>\n",
       "    <tr>\n",
       "      <th>...</th>\n",
       "      <td>...</td>\n",
       "      <td>...</td>\n",
       "      <td>...</td>\n",
       "      <td>...</td>\n",
       "      <td>...</td>\n",
       "      <td>...</td>\n",
       "      <td>...</td>\n",
       "    </tr>\n",
       "    <tr>\n",
       "      <th>270</th>\n",
       "      <td>Rioja Gran Reserve</td>\n",
       "      <td>2019</td>\n",
       "      <td>87.83</td>\n",
       "      <td>936.0</td>\n",
       "      <td>Standard</td>\n",
       "      <td>Rioja</td>\n",
       "      <td>5</td>\n",
       "    </tr>\n",
       "    <tr>\n",
       "      <th>271</th>\n",
       "      <td>Grenache Estate</td>\n",
       "      <td>2023</td>\n",
       "      <td>37.08</td>\n",
       "      <td>1704.0</td>\n",
       "      <td>Premium</td>\n",
       "      <td>Grenache</td>\n",
       "      <td>1</td>\n",
       "    </tr>\n",
       "    <tr>\n",
       "      <th>272</th>\n",
       "      <td>Chardonnay Premium</td>\n",
       "      <td>2015</td>\n",
       "      <td>43.68</td>\n",
       "      <td>709.0</td>\n",
       "      <td>Standard</td>\n",
       "      <td>Chardonnay</td>\n",
       "      <td>9</td>\n",
       "    </tr>\n",
       "    <tr>\n",
       "      <th>273</th>\n",
       "      <td>Syrah Vintage</td>\n",
       "      <td>2016</td>\n",
       "      <td>26.25</td>\n",
       "      <td>888.0</td>\n",
       "      <td>Premium</td>\n",
       "      <td>Syrah</td>\n",
       "      <td>8</td>\n",
       "    </tr>\n",
       "    <tr>\n",
       "      <th>274</th>\n",
       "      <td>Champagne Select</td>\n",
       "      <td>2022</td>\n",
       "      <td>99.96</td>\n",
       "      <td>1740.0</td>\n",
       "      <td>Premium</td>\n",
       "      <td>Champagne</td>\n",
       "      <td>2</td>\n",
       "    </tr>\n",
       "  </tbody>\n",
       "</table>\n",
       "<p>259 rows × 7 columns</p>\n",
       "</div>"
      ],
      "text/plain": [
       "                   name  year  Price  bottles_stored cellar_type   wine_type  \\\n",
       "0     Chardonnay Estate  2019  50.18           106.0     Premium  Chardonnay   \n",
       "1     Sauvignon Vintage  2022  29.70          1513.0    Standard   Sauvignon   \n",
       "2     Chardonnay Select  2018  93.89           614.0       Basic  Chardonnay   \n",
       "4    Barbaresco Vintage  2016  22.02          1213.0    Standard  Barbaresco   \n",
       "5         Rioja Classic  2023  65.67          1270.0     Premium       Rioja   \n",
       "..                  ...   ...    ...             ...         ...         ...   \n",
       "270  Rioja Gran Reserve  2019  87.83           936.0    Standard       Rioja   \n",
       "271     Grenache Estate  2023  37.08          1704.0     Premium    Grenache   \n",
       "272  Chardonnay Premium  2015  43.68           709.0    Standard  Chardonnay   \n",
       "273       Syrah Vintage  2016  26.25           888.0     Premium       Syrah   \n",
       "274    Champagne Select  2022  99.96          1740.0     Premium   Champagne   \n",
       "\n",
       "     age_years  \n",
       "0            5  \n",
       "1            2  \n",
       "2            6  \n",
       "4            8  \n",
       "5            1  \n",
       "..         ...  \n",
       "270          5  \n",
       "271          1  \n",
       "272          9  \n",
       "273          8  \n",
       "274          2  \n",
       "\n",
       "[259 rows x 7 columns]"
      ]
     },
     "execution_count": 15,
     "metadata": {},
     "output_type": "execute_result"
    }
   ],
   "source": [
    "df_clean"
   ]
  },
  {
   "cell_type": "code",
   "execution_count": null,
   "metadata": {},
   "outputs": [],
   "source": []
  }
 ],
 "metadata": {
  "kernelspec": {
   "display_name": "Python 3",
   "language": "python",
   "name": "python3"
  },
  "language_info": {
   "codemirror_mode": {
    "name": "ipython",
    "version": 3
   },
   "file_extension": ".py",
   "mimetype": "text/x-python",
   "name": "python",
   "nbconvert_exporter": "python",
   "pygments_lexer": "ipython3",
   "version": "3.11.9"
  }
 },
 "nbformat": 4,
 "nbformat_minor": 2
}
