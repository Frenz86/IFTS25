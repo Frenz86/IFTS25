{
  "cells": [
    {
      "cell_type": "markdown",
      "metadata": {
        "id": "iQ73wtoDGuZE"
      },
      "source": [
        "## Try Except\n",
        "L'istruzione **try** viene utilizzata insieme all'istruzione **except** per gestire eccezioni. L'obiettivo è consentire al programma di gestire situazioni anomale o errori in modo controllato, evitando che l'esecuzione del programma venga interrotta improvvisamente."
      ]
    },
    {
      "cell_type": "code",
      "execution_count": null,
      "metadata": {
        "colab": {
          "base_uri": "https://localhost:8080/"
        },
        "id": "rha86PaJGuZL",
        "outputId": "eefca0b4-2725-4468-b5a8-b92f2a26a529"
      },
      "outputs": [
        {
          "name": "stdout",
          "output_type": "stream",
          "text": [
            "Il risultato della divisione è: 5.0\n",
            "Errore: divisione per zero non consentita\n"
          ]
        }
      ],
      "source": [
        "## ES1 ZERODIVISION\n",
        "## risolvi l'esercizio con try except\n",
        "\n",
        "def divisione_sicura(dividendo, divisore):\n",
        "    \"\"\"\n",
        "    questa funzione compie la divisione tra numeri\n",
        "    reali\n",
        "    \"\"\"\n",
        "    try:\n",
        "        risultato = dividendo / divisore\n",
        "        print(f\"Il risultato della divisione è: {risultato}\")\n",
        "    except ZeroDivisionError:\n",
        "        print(\"Errore: divisione per zero non consentita\")\n",
        "\n",
        "###### RUN ###########\n",
        "divisione_sicura(10, 2)\n",
        "divisione_sicura(5, 0)"
      ]
    },
    {
      "cell_type": "code",
      "execution_count": null,
      "metadata": {
        "colab": {
          "base_uri": "https://localhost:8080/"
        },
        "id": "xbx9tgxFGuZP",
        "outputId": "1ac69725-561e-4ccb-a1dc-7052d789bab7"
      },
      "outputs": [
        {
          "name": "stdout",
          "output_type": "stream",
          "text": [
            "La conversione a float è: 123.45\n",
            "Errore: inserire una stringa rappresentante un numero valido\n"
          ]
        }
      ],
      "source": [
        "## ES2 VALUEERROR\n",
        "## risolvi l'esercizio con try except\n",
        "\n",
        "def conversione_a_float(stringa):\n",
        "    \"\"\"\n",
        "    questa funzione trasforma stringhe numeriche in\n",
        "    float number\n",
        "    \"\"\"\n",
        "    try:\n",
        "        numero_float = float(stringa)\n",
        "        print(f\"La conversione a float è: {numero_float}\")\n",
        "    except ValueError:\n",
        "        print(\"Errore: inserire una stringa rappresentante un numero valido\")\n",
        "\n",
        "# Esempio di utilizzo\n",
        "conversione_a_float(\"123.45\")\n",
        "conversione_a_float(\"abc\")"
      ]
    },
    {
      "cell_type": "code",
      "execution_count": null,
      "metadata": {
        "colab": {
          "base_uri": "https://localhost:8080/"
        },
        "id": "SU2OQwYaGuZQ",
        "outputId": "d37d0c5a-7111-4d1f-a0a0-7851fd09841c"
      },
      "outputs": [
        {
          "name": "stdout",
          "output_type": "stream",
          "text": [
            "L'elemento alla posizione 2 è: 3\n",
            "Errore: l'indice fornito non è valido per la lista\n"
          ]
        }
      ],
      "source": [
        "## ES3 INDEXERROR\n",
        "## risolvi l'esercizio con try except\n",
        "\n",
        "def elemento_in_lista(lista, indice):\n",
        "    \"\"\"\n",
        "    questa funzione permette di trova il valore\n",
        "    specificando l'indice della lista di rif.\n",
        "    \"\"\"\n",
        "    try:\n",
        "        elemento = lista[indice]\n",
        "        print(f\"L'elemento alla posizione {indice} è: {elemento}\")\n",
        "    except IndexError:\n",
        "        print(\"Errore: l'indice fornito non è valido per la lista\")\n",
        "\n",
        "###### RUN ###########\n",
        "lista = [1, 2, 3, 4, 5]\n",
        "elemento_in_lista(lista, 2)\n",
        "elemento_in_lista(lista, 10)"
      ]
    },
    {
      "cell_type": "code",
      "execution_count": null,
      "metadata": {
        "colab": {
          "base_uri": "https://localhost:8080/"
        },
        "id": "-vDDQ6wlGuZR",
        "outputId": "74d63bf0-5d10-4165-9672-40d6edb158d7"
      },
      "outputs": [
        {
          "name": "stdout",
          "output_type": "stream",
          "text": [
            "Il valore associato alla chiave 'b' è: 2\n",
            "Errore: la chiave 'z' non è presente nel dizionario\n"
          ]
        }
      ],
      "source": [
        "## ES4 KEYERROR\n",
        "## risolvi l'esercizio con try except\n",
        "\n",
        "def stampa_valore_dict(dizionario, chiave):\n",
        "    \"\"\"\n",
        "    questa funzione permette di ricavare la value specidifcando\n",
        "    la key di un dizionario\n",
        "    \"\"\"\n",
        "    try:\n",
        "        valore = dizionario[chiave]\n",
        "        print(f\"Il valore associato alla chiave '{chiave}' è: {valore}\")\n",
        "    except KeyError:\n",
        "        print(f\"Errore: la chiave '{chiave}' non è presente nel dizionario\")\n",
        "\n",
        "###### RUN ###########\n",
        "mio_dizionario = {\"a\": 1, \"b\": 2, \"c\": 3}\n",
        "stampa_valore_dict(mio_dizionario, \"b\")\n",
        "stampa_valore_dict(mio_dizionario, \"z\")"
      ]
    },
    {
      "cell_type": "code",
      "execution_count": null,
      "metadata": {
        "colab": {
          "base_uri": "https://localhost:8080/"
        },
        "id": "-FzuiKJaew4H",
        "outputId": "bdd80773-23fa-4a2f-dd64-59191cd2dfbd"
      },
      "outputs": [
        {
          "name": "stdout",
          "output_type": "stream",
          "text": [
            "Writing esempio.txt\n"
          ]
        }
      ],
      "source": [
        "%%writefile esempio.txt\n",
        "\n",
        "bau bau"
      ]
    },
    {
      "cell_type": "code",
      "execution_count": null,
      "metadata": {
        "id": "z4BMb_MCfBwa"
      },
      "outputs": [],
      "source": [
        "!mkdir test"
      ]
    },
    {
      "cell_type": "code",
      "execution_count": null,
      "metadata": {
        "colab": {
          "base_uri": "https://localhost:8080/"
        },
        "id": "uJ-b-E5pe3qK",
        "outputId": "8b505950-5d36-470e-eeba-6202ba35bc5a"
      },
      "outputs": [
        {
          "name": "stderr",
          "output_type": "stream",
          "text": [
            "\"ls\" non � riconosciuto come comando interno o esterno,\n",
            " un programma eseguibile o un file batch.\n"
          ]
        }
      ],
      "source": [
        "!ls"
      ]
    },
    {
      "cell_type": "code",
      "execution_count": null,
      "metadata": {
        "colab": {
          "base_uri": "https://localhost:8080/"
        },
        "id": "PXcrTt-5GuZS",
        "outputId": "49deba20-6e48-4f72-8d78-ada0d18a3608"
      },
      "outputs": [
        {
          "name": "stdout",
          "output_type": "stream",
          "text": [
            "Contenuto del file:\n",
            "\n",
            "bau bau\n",
            "\n",
            "Errore: il file 'file_inesistente.txt' non esiste\n"
          ]
        }
      ],
      "source": [
        "## ES5 FILENOTFOUND\n",
        "## risolvi l'esercizio con try except\n",
        "\n",
        "def leggi_file(nome_file):\n",
        "    \"\"\"\n",
        "    questa funzione permette di leggere il contenuto\n",
        "    di un file se esiste\n",
        "    \"\"\"\n",
        "    try:\n",
        "        with open(nome_file, 'r') as file:\n",
        "            contenuto = file.read()\n",
        "            print(f\"Contenuto del file:\\n{contenuto}\")\n",
        "    except FileNotFoundError:\n",
        "        print(f\"Errore: il file '{nome_file}' non esiste\")\n",
        "\n",
        "###### RUN ###########\n",
        "leggi_file(\"esempio.txt\")\n",
        "leggi_file(\"file_inesistente.txt\")"
      ]
    },
    {
      "cell_type": "code",
      "execution_count": null,
      "metadata": {
        "colab": {
          "base_uri": "https://localhost:8080/"
        },
        "id": "1zRHKMhSGuZT",
        "outputId": "67fcc15b-58ba-4292-920e-41285e81ad06"
      },
      "outputs": [
        {
          "name": "stdout",
          "output_type": "stream",
          "text": [
            "Connessione stabilita con www.google.com:80\n",
            "Errore: impossibile connettersi a www.google.com:8080\n"
          ]
        }
      ],
      "source": [
        "## ES6 CONNECTIONERROR\n",
        "## risolvi l'esercizio con try except\n",
        "\n",
        "import socket\n",
        "\n",
        "def connetti_server(indirizzo, porta):\n",
        "    \"\"\"\n",
        "    questa funzione di connettersi ad un webserver online\n",
        "    specificando il dns e la porta relativa\n",
        "    \"\"\"\n",
        "    try:\n",
        "        with socket.create_connection((indirizzo, porta), timeout=5) as connessione:\n",
        "            print(f\"Connessione stabilita con {indirizzo}:{porta}\")\n",
        "    except OSError:\n",
        "        print(f\"Errore: impossibile connettersi a {indirizzo}:{porta}\")\n",
        "\n",
        "# Esempio di utilizzo\n",
        "connetti_server(\"www.google.com\", 80)\n",
        "connetti_server(\"www.google.com\", 8080)"
      ]
    },
    {
      "cell_type": "code",
      "execution_count": null,
      "metadata": {
        "id": "GVTPwhIjGuZV"
      },
      "outputs": [],
      "source": []
    },
    {
      "cell_type": "markdown",
      "metadata": {
        "id": "9o9Ix2KMTaRl"
      },
      "source": [
        "### General"
      ]
    },
    {
      "cell_type": "code",
      "execution_count": null,
      "metadata": {
        "id": "74vkqRD9TaRl",
        "outputId": "6377d688-9b0c-462d-cdd4-21a1f220ee54"
      },
      "outputs": [
        {
          "name": "stdout",
          "output_type": "stream",
          "text": [
            "Il risultato della divisione è: 5.0\n",
            "An error occurred: division by zero\n"
          ]
        }
      ],
      "source": [
        "def divisione_sicura(dividendo, divisore):\n",
        "    \"\"\"\n",
        "    questa funzione compie la divisione tra numeri\n",
        "    reali\n",
        "    \"\"\"\n",
        "    try:\n",
        "        risultato = dividendo / divisore\n",
        "        print(f\"Il risultato della divisione è: {risultato}\")\n",
        "    except Exception as e:\n",
        "        print(f\"An error occurred: {str(e)}\")\n",
        "\n",
        "###### RUN ###########\n",
        "divisione_sicura(10, 2)\n",
        "divisione_sicura(5, 0)"
      ]
    },
    {
      "cell_type": "code",
      "execution_count": null,
      "metadata": {
        "id": "T2wFCLEXTaRl",
        "outputId": "cbde6db5-b7b7-4430-c0b6-83922c45156d"
      },
      "outputs": [
        {
          "name": "stdout",
          "output_type": "stream",
          "text": [
            "La conversione a float è: 123.45\n",
            "An error occurred: could not convert string to float: 'abc'\n"
          ]
        }
      ],
      "source": [
        "## ES2 VALUEERROR\n",
        "## risolvi l'esercizio con try except\n",
        "\n",
        "def conversione_a_float(stringa):\n",
        "    \"\"\"\n",
        "    questa funzione trasforma stringhe numeriche in\n",
        "    float number\n",
        "    \"\"\"\n",
        "    try:\n",
        "        numero_float = float(stringa)\n",
        "        print(f\"La conversione a float è: {numero_float}\")\n",
        "    except Exception as e:\n",
        "        print(f\"An error occurred: {str(e)}\")\n",
        "\n",
        "# Esempio di utilizzo\n",
        "conversione_a_float(\"123.45\")\n",
        "conversione_a_float(\"abc\")"
      ]
    },
    {
      "cell_type": "code",
      "execution_count": null,
      "metadata": {
        "id": "Qs2dGPNoTaRl",
        "outputId": "4bffcae7-66e7-4d00-f1ff-9946ecb21e7c"
      },
      "outputs": [
        {
          "name": "stdout",
          "output_type": "stream",
          "text": [
            "L'elemento alla posizione 2 è: 3\n",
            "An error occurred: list index out of range\n"
          ]
        }
      ],
      "source": [
        "## ES3 INDEXERROR\n",
        "## risolvi l'esercizio con try except\n",
        "\n",
        "def elemento_in_lista(lista, indice):\n",
        "    \"\"\"\n",
        "    questa funzione permette di trova il valore\n",
        "    specificando l'indice della lista di rif.\n",
        "    \"\"\"\n",
        "    try:\n",
        "        elemento = lista[indice]\n",
        "        print(f\"L'elemento alla posizione {indice} è: {elemento}\")\n",
        "    except Exception as e:\n",
        "        print(f\"An error occurred: {str(e)}\")\n",
        "\n",
        "###### RUN ###########\n",
        "lista = [1, 2, 3, 4, 5]\n",
        "elemento_in_lista(lista, 2)\n",
        "elemento_in_lista(lista, 10)"
      ]
    },
    {
      "cell_type": "code",
      "execution_count": null,
      "metadata": {
        "id": "O-Py0T52TaRl",
        "outputId": "771199e3-2e79-46d1-b5f5-3772c74a22f8"
      },
      "outputs": [
        {
          "name": "stdout",
          "output_type": "stream",
          "text": [
            "Il valore associato alla chiave 'b' è: 2\n",
            "An error occurred: 'z'\n"
          ]
        }
      ],
      "source": [
        "## ES4 KEYERROR\n",
        "## risolvi l'esercizio con try except\n",
        "\n",
        "def stampa_valore_dict(dizionario, chiave):\n",
        "    \"\"\"\n",
        "    questa funzione permette di ricavare la value specidifcando\n",
        "    la key di un dizionario\n",
        "    \"\"\"\n",
        "    try:\n",
        "        valore = dizionario[chiave]\n",
        "        print(f\"Il valore associato alla chiave '{chiave}' è: {valore}\")\n",
        "    except Exception as e:\n",
        "        print(f\"An error occurred: {str(e)}\")\n",
        "\n",
        "###### RUN ###########\n",
        "mio_dizionario = {\"a\": 1, \"b\": 2, \"c\": 3}\n",
        "stampa_valore_dict(mio_dizionario, \"b\")\n",
        "stampa_valore_dict(mio_dizionario, \"z\")"
      ]
    },
    {
      "cell_type": "code",
      "execution_count": null,
      "metadata": {
        "id": "RTw_CwV6TaRl"
      },
      "outputs": [],
      "source": []
    }
  ],
  "metadata": {
    "colab": {
      "provenance": []
    },
    "kernelspec": {
      "display_name": "Python 3",
      "language": "python",
      "name": "python3"
    },
    "language_info": {
      "codemirror_mode": {
        "name": "ipython",
        "version": 3
      },
      "file_extension": ".py",
      "mimetype": "text/x-python",
      "name": "python",
      "nbconvert_exporter": "python",
      "pygments_lexer": "ipython3",
      "version": "3.11.9"
    }
  },
  "nbformat": 4,
  "nbformat_minor": 0
}