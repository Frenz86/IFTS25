{
 "cells": [
  {
   "cell_type": "code",
   "execution_count": 12,
   "id": "9e4f6738",
   "metadata": {},
   "outputs": [],
   "source": [
    "import os\n",
    "from dotenv import load_dotenv\n",
    "#load_dotenv('.env')\n",
    "load_dotenv()\n",
    "\n",
    "API_key = os.getenv('api_key')"
   ]
  },
  {
   "cell_type": "code",
   "execution_count": 14,
   "id": "67506a92",
   "metadata": {},
   "outputs": [],
   "source": [
    "import requests\n",
    "from datetime import datetime , timedelta\n",
    "\n",
    "\n",
    "def get_hist_data(lat,lon,start):\n",
    "    url_coord = f'https://api.openweathermap.org/data/2.5/onecall/timemachine?lat={lat}&lon={lon}&dt={start}&appid={API_key}'\n",
    "    res = requests.get(url_coord)\n",
    "    data = res.json()\n",
    "    return data\n",
    "    # temp = []\n",
    "    # for hour in data[\"hourly\"]:\n",
    "    #     t = hour[\"temp\"]\n",
    "    #     temp.append(t)     \n",
    "    # return data , temp"
   ]
  },
  {
   "cell_type": "code",
   "execution_count": 15,
   "id": "a81b4c54",
   "metadata": {},
   "outputs": [
    {
     "data": {
      "text/plain": [
       "{'cod': 401,\n",
       " 'message': 'Invalid API key. Please see https://openweathermap.org/faq#error401 for more info.'}"
      ]
     },
     "execution_count": 15,
     "metadata": {},
     "output_type": "execute_result"
    }
   ],
   "source": [
    "get_hist_data(11.4333,44.4667,datetime.now())"
   ]
  },
  {
   "cell_type": "code",
   "execution_count": null,
   "id": "62e94736",
   "metadata": {},
   "outputs": [],
   "source": []
  }
 ],
 "metadata": {
  "kernelspec": {
   "display_name": "Python 3",
   "language": "python",
   "name": "python3"
  },
  "language_info": {
   "codemirror_mode": {
    "name": "ipython",
    "version": 3
   },
   "file_extension": ".py",
   "mimetype": "text/x-python",
   "name": "python",
   "nbconvert_exporter": "python",
   "pygments_lexer": "ipython3",
   "version": "3.11.9"
  }
 },
 "nbformat": 4,
 "nbformat_minor": 5
}
