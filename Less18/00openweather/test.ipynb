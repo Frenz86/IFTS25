{
 "cells": [
  {
   "cell_type": "code",
   "execution_count": 1,
   "metadata": {
    "id": "q9ktFH4en4Ul"
   },
   "outputs": [],
   "source": [
    "import os\n",
    "from dotenv import load_dotenv\n",
    "#load_dotenv('.env')\n",
    "load_dotenv()\n",
    "\n",
    "API_key = os.getenv('api_key')"
   ]
  },
  {
   "cell_type": "code",
   "execution_count": 2,
   "metadata": {
    "colab": {
     "base_uri": "https://localhost:8080/"
    },
    "executionInfo": {
     "elapsed": 7,
     "status": "ok",
     "timestamp": 1718267000052,
     "user": {
      "displayName": "Daniele Grotti",
      "userId": "05993002232846155126"
     },
     "user_tz": -120
    },
    "id": "FbRwN7YjnnhO",
    "outputId": "90df88e5-f844-4f52-a71a-fa1ff85183bc"
   },
   "outputs": [
    {
     "data": {
      "text/plain": [
       "<Response [200]>"
      ]
     },
     "execution_count": 2,
     "metadata": {},
     "output_type": "execute_result"
    }
   ],
   "source": [
    "import requests\n",
    "\n",
    "city_name = 'Bologna'\n",
    "\n",
    "url = f'https://api.openweathermap.org/data/2.5/weather?q={city_name}&appid={API_key}'\n",
    "\n",
    "result = requests.get(url)\n",
    "result"
   ]
  },
  {
   "cell_type": "code",
   "execution_count": 4,
   "metadata": {},
   "outputs": [
    {
     "data": {
      "text/plain": [
       "{'coord': {'lon': 11.4333, 'lat': 44.4667},\n",
       " 'weather': [{'id': 804,\n",
       "   'main': 'Clouds',\n",
       "   'description': 'overcast clouds',\n",
       "   'icon': '04d'}],\n",
       " 'base': 'stations',\n",
       " 'main': {'temp': 293.73,\n",
       "  'feels_like': 293.46,\n",
       "  'temp_min': 293.64,\n",
       "  'temp_max': 294.96,\n",
       "  'pressure': 1014,\n",
       "  'humidity': 62,\n",
       "  'sea_level': 1014,\n",
       "  'grnd_level': 999},\n",
       " 'visibility': 10000,\n",
       " 'wind': {'speed': 3.13, 'deg': 53, 'gust': 4.92},\n",
       " 'clouds': {'all': 85},\n",
       " 'dt': 1747137968,\n",
       " 'sys': {'type': 2,\n",
       "  'id': 2004497,\n",
       "  'country': 'IT',\n",
       "  'sunrise': 1747108148,\n",
       "  'sunset': 1747161133},\n",
       " 'timezone': 7200,\n",
       " 'id': 3181927,\n",
       " 'name': 'Bologna',\n",
       " 'cod': 200}"
      ]
     },
     "execution_count": 4,
     "metadata": {},
     "output_type": "execute_result"
    }
   ],
   "source": [
    "json = result.json()\n",
    "json"
   ]
  },
  {
   "cell_type": "code",
   "execution_count": 16,
   "metadata": {},
   "outputs": [
    {
     "data": {
      "text/plain": [
       "'04d'"
      ]
     },
     "execution_count": 16,
     "metadata": {},
     "output_type": "execute_result"
    }
   ],
   "source": [
    "json['weather'][0]['icon']"
   ]
  },
  {
   "cell_type": "code",
   "execution_count": null,
   "metadata": {
    "id": "hSdjspeSnnhP",
    "outputId": "1230b77f-dfa8-4e4e-868a-6d425db832b4"
   },
   "outputs": [
    {
     "data": {
      "text/plain": [
       "{'speed': 3.13, 'deg': 53, 'gust': 4.92}"
      ]
     },
     "execution_count": 8,
     "metadata": {},
     "output_type": "execute_result"
    }
   ],
   "source": [
    "json['wind']['speed']"
   ]
  },
  {
   "cell_type": "code",
   "execution_count": 4,
   "metadata": {
    "id": "GXuLRDc_nnhQ"
   },
   "outputs": [],
   "source": [
    "country = json['sys']['country']\n",
    "temp = json['main']['temp'] - 273.15 # to °C\n",
    "temp_feels = json['main']['feels_like'] - 273.15 # to °C\n",
    "humid = json['main']['humidity']\n",
    "pressure = json['main']['pressure']\n",
    "wind = json['wind']['speed']\n",
    "icon = json['weather'][0]['icon']\n",
    "lon = json['coord']['lon']\n",
    "lat = json['coord']['lat']\n",
    "des = json['weather'][0]['description']\n",
    "res = [country, round(temp,1),round(temp_feels,1),humid,lon,lat,icon,des,pressure,wind]"
   ]
  },
  {
   "cell_type": "code",
   "execution_count": 5,
   "metadata": {
    "id": "wuDq9Q6fnnhQ",
    "outputId": "c141957b-c2e7-4643-c158-fb1a30d4fb38"
   },
   "outputs": [
    {
     "data": {
      "text/plain": [
       "['IT', 18.6, 18.5, 77, 11.4333, 44.4667, '04d', 'broken clouds', 1015, 2.57]"
      ]
     },
     "execution_count": 5,
     "metadata": {},
     "output_type": "execute_result"
    }
   ],
   "source": [
    "res"
   ]
  },
  {
   "cell_type": "code",
   "execution_count": null,
   "metadata": {
    "id": "Pm0L-KGLnnhR"
   },
   "outputs": [],
   "source": []
  }
 ],
 "metadata": {
  "colab": {
   "provenance": []
  },
  "kernelspec": {
   "display_name": "Python 3",
   "language": "python",
   "name": "python3"
  },
  "language_info": {
   "codemirror_mode": {
    "name": "ipython",
    "version": 3
   },
   "file_extension": ".py",
   "mimetype": "text/x-python",
   "name": "python",
   "nbconvert_exporter": "python",
   "pygments_lexer": "ipython3",
   "version": "3.11.9"
  },
  "orig_nbformat": 4
 },
 "nbformat": 4,
 "nbformat_minor": 0
}
